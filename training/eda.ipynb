{
 "cells": [
  {
   "cell_type": "code",
   "execution_count": 6,
   "metadata": {},
   "outputs": [
    {
     "name": "stderr",
     "output_type": "stream",
     "text": [
      "/var/folders/t5/8mxcp2397dv5bg5tp9njth1w0000gn/T/ipykernel_11490/4092780446.py:7: DtypeWarning: Columns (48) have mixed types. Specify dtype option on import or set low_memory=False.\n",
      "  df = pd.read_csv(\"Training.csv\")\n"
     ]
    },
    {
     "name": "stdout",
     "output_type": "stream",
     "text": [
      "muscle_pain              0.018459\n",
      "itching                  0.016645\n",
      "mild_fever               0.016341\n",
      "family_history           0.015145\n",
      "yellowing_of_eyes        0.014673\n",
      "chest_pain               0.014464\n",
      "dark_urine               0.013979\n",
      "altered_sensorium        0.013964\n",
      "high_fever               0.013799\n",
      "lack_of_concentration    0.013534\n",
      "weight_loss              0.013086\n",
      "fatigue                  0.012598\n",
      "joint_pain               0.012591\n",
      "nausea                   0.012141\n",
      "stomach_pain             0.011642\n",
      "mucoid_sputum            0.011592\n",
      "neck_pain                0.011305\n",
      "loss_of_appetite         0.011300\n",
      "chills                   0.011193\n",
      "unsteadiness             0.011052\n",
      "dtype: float64\n"
     ]
    }
   ],
   "source": [
    "import pandas as pd\n",
    "from sklearn.ensemble import RandomForestClassifier\n",
    "from sklearn.feature_selection import SelectKBest, chi2\n",
    "import matplotlib.pyplot as plt\n",
    "\n",
    "# Load dataset\n",
    "df = pd.read_csv(\"Training.csv\")\n",
    "\n",
    "# Separate features and target\n",
    "X = df.drop(columns=[\"prognosis\"])\n",
    "y = df[\"prognosis\"]\n",
    "\n",
    "# Fix weird non-numeric values (like '0xf') in 'malaise'\n",
    "X['malaise'] = pd.to_numeric(X['malaise'], errors='coerce').fillna(0)\n",
    "\n",
    "# Drop constant/low-variance columns\n",
    "low_variance = X.loc[:, X.nunique() <= 1].columns.tolist()\n",
    "X = X.drop(columns=low_variance)\n",
    "\n",
    "# RandomForest for feature importance\n",
    "rf = RandomForestClassifier()\n",
    "rf.fit(X, y)\n",
    "importances = rf.feature_importances_\n",
    "rf_feature_ranks = pd.Series(importances, index=X.columns).sort_values(ascending=False)\n",
    "\n",
    "# Chi-square test\n",
    "chi2_selector = SelectKBest(score_func=chi2, k='all')\n",
    "chi2_selector.fit(X, y)\n",
    "chi2_scores = pd.Series(chi2_selector.scores_, index=X.columns).sort_values(ascending=False)\n",
    "\n",
    "# Top 20 features from each\n",
    "top_rf_features = rf_feature_ranks.head(20)\n",
    "top_chi2_features = chi2_scores.head(20)\n",
    "\n",
    "# print(\"🔥 Top 20 Features (RandomForest):\")\n",
    "print(top_rf_features)\n",
    "\n",
    "# print(\"\\n🔍 Top 20 Features (Chi2):\")\n",
    "# print(top_chi2_features)\n",
    "\n",
    "# print(\"\\n🧹 Dropped Low Variance Features:\")\n",
    "# print(low_variance)\n"
   ]
  },
  {
   "cell_type": "code",
   "execution_count": null,
   "metadata": {},
   "outputs": [],
   "source": [
    "features = [\"muscle_pain\"             ,\n",
    "\"itching\"                 ,\n",
    "\"mild_fever\"              ,\n",
    "\"family_history\"          ,\n",
    "\"yellowing_of_eyes\"       ,\n",
    "\"chest_pain\"              ,\n",
    "\"dark_urine\"              ,\n",
    "\"altered_sensorium\"       ,\n",
    "\"high_fever\"              ,\n",
    "\"lack_of_concentration\"   ,\n",
    "\"weight_loss\"             ,\n",
    "\"fatigue\"                 ,\n",
    "\"joint_pain\"              ,\n",
    "\"nausea\"                  ,\n",
    "\"stomach_pain\"            ,\n",
    "\"mucoid_sputum\"           ,\n",
    "\"neck_pain\"               ,\n",
    "\"loss_of_appetite\"        ,\n",
    "\"chills\"                  ,\n",
    "\"unsteadiness\"            ,\n",
    "]"
   ]
  },
  {
   "cell_type": "code",
   "execution_count": 5,
   "metadata": {},
   "outputs": [
    {
     "data": {
      "image/png": "[encoded data removed]",
      "text/plain": [
       "<Figure size 640x480 with 1 Axes>"
      ]
     },
     "metadata": {},
     "output_type": "display_data"
    }
   ],
   "source": [
    "import seaborn as sns\n",
    "import matplotlib.pyplot as plt\n",
    "\n",
    "# Compare RF & Chi2 scores\n",
    "combined_scores = pd.DataFrame({\n",
    "    \"RandomForest\": rf_feature_ranks,\n",
    "    \"Chi2\": chi2_scores\n",
    "}).dropna()\n",
    "\n",
    "sns.scatterplot(data=combined_scores, x=\"RandomForest\", y=\"Chi2\")\n",
    "plt.title(\"Feature Importance: RF vs Chi2\")\n",
    "plt.show()\n"
   ]
  }
 ],
 "metadata": {
  "kernelspec": {
   "display_name": "myenv",
   "language": "python",
   "name": "python3"
  },
  "language_info": {
   "codemirror_mode": {
    "name": "ipython",
    "version": 3
   },
   "file_extension": ".py",
   "mimetype": "text/x-python",
   "name": "python",
   "nbconvert_exporter": "python",
   "pygments_lexer": "ipython3",
   "version": "3.13.1"
  }
 },
 "nbformat": 4,
 "nbformat_minor": 2
}
